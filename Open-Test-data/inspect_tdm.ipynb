{
  "cells": [
    {
      "cell_type": "markdown",
      "metadata": {},
      "source": [
        "# Inspect TDM File\n",
        "\n",
        "This notebook allows you to:\n",
        "- Open a `.tdm` file and its corresponding `.tdx` file.\n",
        "- Explore the metadata and time histories of the experimental data.\n",
        "- Visualize specific channels interactively."
      ]
    },
    {
      "cell_type": "code",
      "execution_count": null,
      "metadata": {},
      "outputs": [],
      "source": [
        "import os\n",
        "import pandas as pd\n",
        "import tdm_loader as tdm\n",
        "import numpy as np\n",
        "import matplotlib.pyplot as plt\n",
        "from tkinter import Tk, filedialog"
      ]
    },
    {
      "cell_type": "code",
      "execution_count": null,
      "metadata": {},
      "outputs": [],
      "source": [
        "def select_tdm_file():\n",
        "    \"\"\"\n",
        "    Opens a dialog to select a TDM file.\n",
        "    \n",
        "    Returns:\n",
        "        str: Path to the selected TDM file.\n",
        "    \"\"\"\n",
        "    root = Tk()\n",
        "    root.withdraw()\n",
        "    root.attributes('-topmost', True)\n",
        "    file_path = filedialog.askopenfilename(\n",
        "        title=\"Select TDM File\",\n",
        "        filetypes=[(\"TDM Files\", \"*.tdm;*.TDM\")]\n",
        "    )\n",
        "    root.destroy()\n",
        "    return file_path"
      ]
    },
    {
      "cell_type": "code",
      "execution_count": null,
      "metadata": {},
      "outputs": [],
      "source": [
        "def load_tdm_data(tdm_file, fs=1000):\n",
        "    \"\"\"\n",
        "    Load data from a TDM file.\n",
        "    \n",
        "    Args:\n",
        "        tdm_file (str): Path to the TDM file.\n",
        "        fs (int): Sampling frequency in Hz (default: 1000 Hz).\n",
        "    \n",
        "    Returns:\n",
        "        tuple: (metadata, DataFrame of channel data).\n",
        "    \"\"\"\n",
        "    try:\n",
        "        data = tdm.OpenFile(tdm_file)\n",
        "        d = {}\n",
        "        group_index = 0\n",
        "        channel_index = 0\n",
        "        while True:\n",
        "            try:\n",
        "                channel_name = data.channel_name(group_index, channel_index)\n",
        "                channel_data = data.channel(group_index, channel_index)\n",
        "                d[channel_name] = channel_data\n",
        "                channel_index += 1\n",
        "            except IndexError:\n",
        "                break\n",
        "\n",
        "        df = pd.DataFrame.from_dict(d)\n",
        "        time = np.arange(len(df)) / fs\n",
        "        df['time'] = time\n",
        "        df = df.set_index('time')\n",
        "        \n",
        "        metadata = {\n",
        "            \"Number of Channels\": channel_index,\n",
        "            \"Channel Length\": len(df),\n",
        "            \"File Path\": tdm_file\n",
        "        }\n",
        "\n",
        "        return metadata, df\n",
        "    except Exception as e:\n",
        "        print(f\"Error loading TDM file: {e}\")\n",
        "        return None, None"
      ]
    },
    {
      "cell_type": "code",
      "execution_count": null,
      "metadata": {},
      "outputs": [],
      "source": [
        "# Manually specify the file path or use the file dialog\n",
        "# tdm_file = \"path_to_your_file.tdm\"\n",
        "tdm_file = select_tdm_file()\n",
        "\n",
        "if not tdm_file:\n",
        "    print(\"No file selected.\")\n",
        "else:\n",
        "    metadata, df = load_tdm_data(tdm_file)\n",
        "    if metadata and df is not None:\n",
        "        print(\"Metadata:\")\n",
        "        for key, value in metadata.items():\n",
        "            print(f\"{key}: {value}\")\n",
        "\n",
        "        print(\"\\nChannel Names:\")\n",
        "        print(df.columns.values)\n",
        "\n",
        "        channel_to_plot = df.columns[0]\n",
        "        plt.figure(figsize=(12, 6))\n",
        "        plt.plot(df[channel_to_plot], label=channel_to_plot)\n",
        "        plt.title(f\"Channel: {channel_to_plot}\")\n",
        "        plt.xlabel(\"Time [s]\")\n",
        "        plt.ylabel(\"Engineering Value\")\n",
        "        plt.legend()\n",
        "        plt.grid()\n",
        "        plt.show()"
      ]
    }
  ],
  "metadata": {
    "kernelspec": {
      "display_name": "Python 3",
      "language": "python",
      "name": "python3"
    },
    "language_info": {
      "codemirror_mode": {
        "name": "ipython",
        "version": 3
      },
      "file_extension": ".py",
      "mimetype": "text/x-python",
      "name": "python",
      "nbconvert_exporter": "python",
      "pygments_lexer": "ipython3",
      "version": "3.8.10"
    }
  },
  "nbformat": 4,
  "nbformat_minor": 5
}
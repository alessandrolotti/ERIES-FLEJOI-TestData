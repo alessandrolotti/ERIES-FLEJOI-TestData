import pandas as pd
import tdm_loader as tdm
import numpy as np
import matplotlib.pyplot as plt
from tkinter import Tk, filedialog

"""
# Inspect TDM File
This notebook allows you to:
- Open a `.tdm` file and its corresponding `.tdx` file.
- Explore the metadata and time histories of the experimental data.
- Visualize specific channels interactively.
"""

# Function to select a TDM file
def select_tdm_file():
    """
    Opens a dialog to select a TDM file.

    Returns:
        str: Path to the selected TDM file.
    """
    root = Tk()
    root.withdraw()
    root.attributes('-topmost', True)
    file_path = filedialog.askopenfilename(
        title="Select TDM File",
        filetypes=[("TDM Files", "*.tdm;*.TDM")]
    )
    root.destroy()
    return file_path

# Function to load TDM data
def load_tdm_data(tdm_file,fs = 1000):
    """
    Load data from a TDM file.

    Args:
        tdm_file (str): Path to the TDM file.
        fs (int): sampling frequency in Hz (default 1000 Hz).

    Returns:
        tuple: (metadata, DataFrame of channel data).
    """
    try:
        # Open the TDM file
        data = tdm.OpenFile(tdm_file)

        # Extract channel data
        d = {}
        group_index = 0
        channel_index = 0
        while True:
            try:
                channel_name = data.channel_name(group_index, channel_index)
                channel_data = data.channel(group_index, channel_index)
                d[channel_name] = channel_data
                channel_index += 1
            except IndexError:
                break

        # Convert to DataFrame
        df = pd.DataFrame.from_dict(d)

        # Add a time column as the index based on a sampling frequency of 1000 Hz
        fs = 1000  # Sampling frequency in Hz
        time = np.arange(len(df)) / fs
        df['time'] = time
        df = df.set_index('time')
        
        # Extract metadata
        metadata = {
            "Number of Channels": channel_index,
            "Channel Length": len(df),
            "File Path": tdm_file
        }

        return metadata, df

    except Exception as e:
        print(f"Error loading TDM file: {e}")
        return None, None
# Select the TDM file
# Manually specify the filename if the user prefers to
# tdm_file = path...
tdm_file = select_tdm_file()
# Load the TDM data
metadata, df = load_tdm_data(tdm_file)
print('Metadata:\n',metadata)
print('Channel Names:\n',df.columns.values)
# Plot a specific channel
channel_to_plot = df.columns[0]  # Default to the first channel

plt.figure(figsize=(12, 6))
plt.plot(df[channel_to_plot], label=channel_to_plot)
plt.title(f"Channel: {channel_to_plot}")
plt.xlabel("Time [s]")
plt.ylabel("Engineering Value")
plt.legend()
plt.grid()
plt.show()
